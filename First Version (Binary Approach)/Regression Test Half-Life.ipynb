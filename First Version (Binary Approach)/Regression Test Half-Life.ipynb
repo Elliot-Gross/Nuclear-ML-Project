{
 "cells": [
  {
   "cell_type": "markdown",
   "metadata": {},
   "source": [
    "# Imports"
   ]
  },
  {
   "cell_type": "code",
   "execution_count": 1,
   "metadata": {},
   "outputs": [],
   "source": [
    "### Imports ###\n",
    "import pandas as pd\n",
    "import numpy as np\n",
    "\n",
    "from sklearn.base import BaseEstimator, TransformerMixin\n",
    "\n",
    "from Data_Merger_Pipeline import DataMerger\n",
    "from Data_Transformer_Pipeline import Data_Transformer\n",
    "\n",
    "import matplotlib.pyplot as plt\n",
    "import seaborn as sns\n",
    "from sklearn.metrics import r2_score, explained_variance_score, confusion_matrix\n",
    "\n",
    "from sklearn.model_selection import train_test_split, cross_val_score\n",
    "\n",
    "from sklearn.preprocessing import PolynomialFeatures\n",
    "from sklearn.linear_model import LinearRegression"
   ]
  },
  {
   "cell_type": "markdown",
   "metadata": {},
   "source": [
    "# Helper Functions"
   ]
  },
  {
   "cell_type": "code",
   "execution_count": 2,
   "metadata": {},
   "outputs": [],
   "source": [
    "def display_scores(clf, X_test, y_test): \n",
    "    acc_score = np.mean(cross_val_score(clf, X_test, y_test, scoring='accuracy', cv=5))\n",
    "    \n",
    "    name = clf.__class__.__name__\n",
    "    print('\\n'+name+':')\n",
    "    print('   Accuracy Score:', acc_score,'\\n')"
   ]
  },
  {
   "cell_type": "markdown",
   "metadata": {},
   "source": [
    "# Loading Data"
   ]
  },
  {
   "cell_type": "code",
   "execution_count": 3,
   "metadata": {},
   "outputs": [],
   "source": [
    "### Loading Data ###\n",
    "web_data_df = pd.read_csv(\"Data/Loaded_Data/Web_Data.csv\")\n",
    "github_data_df = pd.read_csv(\"Data/Loaded_Data/Github_Data.csv\")"
   ]
  },
  {
   "cell_type": "markdown",
   "metadata": {},
   "source": [
    "# Cleaning Data"
   ]
  },
  {
   "cell_type": "code",
   "execution_count": 4,
   "metadata": {},
   "outputs": [
    {
     "name": "stderr",
     "output_type": "stream",
     "text": [
      "/Users/elliotgross/Desktop/Nuclear-Physics-ML-master/Nuclear ML/Data_Merger_Pipeline.py:69: SettingWithCopyWarning: \n",
      "A value is trying to be set on a copy of a slice from a DataFrame.\n",
      "Try using .loc[row_indexer,col_indexer] = value instead\n",
      "\n",
      "See the caveats in the documentation: https://pandas.pydata.org/pandas-docs/stable/user_guide/indexing.html#returning-a-view-versus-a-copy\n",
      "  web_data_df['N'] = np.floor(web_data_df['Mass']) - web_data_df['Z']\n"
     ]
    }
   ],
   "source": [
    "### Merging Data ###\n",
    "cols_to_keep = ['Z','N','Mass','Half Life','M']\n",
    "data_merger = DataMerger(cols_to_keep)\n",
    "df = data_merger.transform(web_data_df, github_data_df)[1:].reset_index(drop=True)"
   ]
  },
  {
   "cell_type": "code",
   "execution_count": 5,
   "metadata": {},
   "outputs": [],
   "source": [
    "### Splitting Data And Target Vector ###\n",
    "X = df.drop('Half Life', axis=1)\n",
    "y = df['Half Life']"
   ]
  },
  {
   "cell_type": "code",
   "execution_count": 6,
   "metadata": {},
   "outputs": [
    {
     "name": "stderr",
     "output_type": "stream",
     "text": [
      "/Users/elliotgross/opt/anaconda3/lib/python3.7/site-packages/pandas/core/computation/expressions.py:68: FutureWarning: elementwise comparison failed; returning scalar instead, but in the future will perform elementwise comparison\n",
      "  return op(a, b)\n"
     ]
    }
   ],
   "source": [
    "### Preparing Data ###\n",
    "features_to_keep = ['N','Z','-ZM/N']\n",
    "data_transformer = Data_Transformer(X_features=features_to_keep, target_vector='Magnitude',\n",
    "                                    prediction_type='Regression',\n",
    "                                    X_imputer_strat='drop', X_fill_value='None',\n",
    "                                    y_imputer_strat='drop', y_fill_value='None')\n",
    "prepared_X, prepared_y = data_transformer.transform(X, y)\n",
    "\n",
    "#print(prepared_X.shape, prepared_y.shape)"
   ]
  },
  {
   "cell_type": "markdown",
   "metadata": {},
   "source": [
    "## Normalizing Data"
   ]
  },
  {
   "cell_type": "code",
   "execution_count": 7,
   "metadata": {},
   "outputs": [],
   "source": [
    "### Normalizing X-Values ### *Put into Data Transformer Pipeline after deciding on design*\n",
    "from sklearn.preprocessing import MinMaxScaler\n",
    "\n",
    "norm = MinMaxScaler().fit(prepared_X)\n",
    "X_norm = pd.DataFrame(norm.transform(prepared_X), columns=prepared_X.columns)"
   ]
  },
  {
   "cell_type": "markdown",
   "metadata": {},
   "source": [
    "# Splitting Data"
   ]
  },
  {
   "cell_type": "code",
   "execution_count": 8,
   "metadata": {},
   "outputs": [],
   "source": [
    "### Splitting Data ### *Clould Be done before or after transforming data*\n",
    "from sklearn.model_selection import train_test_split\n",
    "\n",
    "X_train, X_test, y_train, y_test = train_test_split(X_norm,prepared_y,test_size=0.1,random_state=27)  \n",
    "X_train, X_val, y_train, y_val = train_test_split(X_train,y_train,test_size=0.1,\n",
    "                                                  random_state=27)\n",
    "\n",
    "#print(X_train)\n",
    "#print(y_train)"
   ]
  },
  {
   "cell_type": "markdown",
   "metadata": {},
   "source": [
    "# Creating/Training Model"
   ]
  },
  {
   "cell_type": "code",
   "execution_count": 9,
   "metadata": {},
   "outputs": [
    {
     "data": {
      "text/plain": [
       "LinearRegression()"
      ]
     },
     "execution_count": 9,
     "metadata": {},
     "output_type": "execute_result"
    }
   ],
   "source": [
    "### Creating Model ###\n",
    "degree = 7\n",
    "polynomial_features = PolynomialFeatures(degree=degree)\n",
    "X_poly_train = polynomial_features.fit_transform(X_train)\n",
    "X_poly_test = polynomial_features.fit_transform(X_test)\n",
    "\n",
    "model = LinearRegression(fit_intercept=True)\n",
    "\n",
    "### Training Model ###\n",
    "model.fit(X_poly_train, y_train)\n",
    "\n",
    "model"
   ]
  },
  {
   "cell_type": "markdown",
   "metadata": {},
   "source": [
    "# Making Predictions"
   ]
  },
  {
   "cell_type": "code",
   "execution_count": 10,
   "metadata": {},
   "outputs": [],
   "source": [
    "### Test Predictions ###\n",
    "predictions = model.predict(X_poly_test)\n",
    "predictions_rounded = [round(n) for n in predictions]\n",
    "\n",
    "results_df = pd.DataFrame({'y Test':y_test, 'Predictions':predictions,\n",
    "                           'Predictions Rounded':predictions_rounded}).reset_index(drop=True)"
   ]
  },
  {
   "cell_type": "markdown",
   "metadata": {},
   "source": [
    "# Scoring "
   ]
  },
  {
   "cell_type": "code",
   "execution_count": 11,
   "metadata": {},
   "outputs": [
    {
     "name": "stdout",
     "output_type": "stream",
     "text": [
      "r^2 Score: 0.4889702060073472\n",
      "Explained Variance Score: 0.4890718670231383\n"
     ]
    },
    {
     "data": {
      "text/html": [
       "<div>\n",
       "<style scoped>\n",
       "    .dataframe tbody tr th:only-of-type {\n",
       "        vertical-align: middle;\n",
       "    }\n",
       "\n",
       "    .dataframe tbody tr th {\n",
       "        vertical-align: top;\n",
       "    }\n",
       "\n",
       "    .dataframe thead th {\n",
       "        text-align: right;\n",
       "    }\n",
       "</style>\n",
       "<table border=\"1\" class=\"dataframe\">\n",
       "  <thead>\n",
       "    <tr style=\"text-align: right;\">\n",
       "      <th></th>\n",
       "      <th>y Test</th>\n",
       "      <th>Predictions</th>\n",
       "      <th>Predictions Rounded</th>\n",
       "    </tr>\n",
       "  </thead>\n",
       "  <tbody>\n",
       "    <tr>\n",
       "      <th>0</th>\n",
       "      <td>0.0</td>\n",
       "      <td>0.813143</td>\n",
       "      <td>1</td>\n",
       "    </tr>\n",
       "    <tr>\n",
       "      <th>1</th>\n",
       "      <td>-2.0</td>\n",
       "      <td>-1.362560</td>\n",
       "      <td>-1</td>\n",
       "    </tr>\n",
       "    <tr>\n",
       "      <th>2</th>\n",
       "      <td>2.0</td>\n",
       "      <td>4.365634</td>\n",
       "      <td>4</td>\n",
       "    </tr>\n",
       "    <tr>\n",
       "      <th>3</th>\n",
       "      <td>1.0</td>\n",
       "      <td>0.666474</td>\n",
       "      <td>1</td>\n",
       "    </tr>\n",
       "    <tr>\n",
       "      <th>4</th>\n",
       "      <td>4.0</td>\n",
       "      <td>2.499257</td>\n",
       "      <td>2</td>\n",
       "    </tr>\n",
       "    <tr>\n",
       "      <th>...</th>\n",
       "      <td>...</td>\n",
       "      <td>...</td>\n",
       "      <td>...</td>\n",
       "    </tr>\n",
       "    <tr>\n",
       "      <th>269</th>\n",
       "      <td>6.0</td>\n",
       "      <td>3.539216</td>\n",
       "      <td>4</td>\n",
       "    </tr>\n",
       "    <tr>\n",
       "      <th>270</th>\n",
       "      <td>2.0</td>\n",
       "      <td>3.448004</td>\n",
       "      <td>3</td>\n",
       "    </tr>\n",
       "    <tr>\n",
       "      <th>271</th>\n",
       "      <td>2.0</td>\n",
       "      <td>1.486505</td>\n",
       "      <td>1</td>\n",
       "    </tr>\n",
       "    <tr>\n",
       "      <th>272</th>\n",
       "      <td>2.0</td>\n",
       "      <td>3.170331</td>\n",
       "      <td>3</td>\n",
       "    </tr>\n",
       "    <tr>\n",
       "      <th>273</th>\n",
       "      <td>3.0</td>\n",
       "      <td>2.828842</td>\n",
       "      <td>3</td>\n",
       "    </tr>\n",
       "  </tbody>\n",
       "</table>\n",
       "<p>274 rows × 3 columns</p>\n",
       "</div>"
      ],
      "text/plain": [
       "     y Test  Predictions  Predictions Rounded\n",
       "0       0.0     0.813143                    1\n",
       "1      -2.0    -1.362560                   -1\n",
       "2       2.0     4.365634                    4\n",
       "3       1.0     0.666474                    1\n",
       "4       4.0     2.499257                    2\n",
       "..      ...          ...                  ...\n",
       "269     6.0     3.539216                    4\n",
       "270     2.0     3.448004                    3\n",
       "271     2.0     1.486505                    1\n",
       "272     2.0     3.170331                    3\n",
       "273     3.0     2.828842                    3\n",
       "\n",
       "[274 rows x 3 columns]"
      ]
     },
     "execution_count": 11,
     "metadata": {},
     "output_type": "execute_result"
    }
   ],
   "source": [
    "#r^2 score\n",
    "print('r^2 Score:', r2_score(y_test, predictions))\n",
    "print('Explained Variance Score:', explained_variance_score(y_test, predictions))\n",
    "results_df"
   ]
  },
  {
   "cell_type": "code",
   "execution_count": null,
   "metadata": {},
   "outputs": [],
   "source": []
  },
  {
   "cell_type": "code",
   "execution_count": 12,
   "metadata": {},
   "outputs": [
    {
     "data": {
      "text/plain": [
       "Text(96.0, 0.5, 'true value')"
      ]
     },
     "execution_count": 12,
     "metadata": {},
     "output_type": "execute_result"
    },
    {
     "data": {
      "image/png": "[encoded data removed]",
      "text/plain": [
       "<Figure size 936x936 with 2 Axes>"
      ]
     },
     "metadata": {
      "needs_background": "light"
     },
     "output_type": "display_data"
    }
   ],
   "source": [
    "from sklearn.metrics import plot_confusion_matrix\n",
    "\n",
    "fig, ax = plt.subplots(figsize=(13, 13))\n",
    "\n",
    "mat = confusion_matrix(y_test, predictions_rounded,\n",
    "                       labels=np.arange(-23,33), normalize='true')\n",
    "matrix = pd.DataFrame(mat, columns=np.arange(-23,33))\n",
    "matrix = matrix.set_index(np.arange(-23,33))\n",
    "\n",
    "sns.heatmap(matrix, square=True, annot=False, cbar=True, xticklabels=True)\n",
    "plt.title(model.__class__.__name__)\n",
    "plt.xlabel('predicted value')\n",
    "plt.ylabel('true value')"
   ]
  },
  {
   "cell_type": "code",
   "execution_count": null,
   "metadata": {},
   "outputs": [],
   "source": []
  },
  {
   "cell_type": "code",
   "execution_count": null,
   "metadata": {},
   "outputs": [],
   "source": []
  }
 ],
 "metadata": {
  "kernelspec": {
   "display_name": "Python 3",
   "language": "python",
   "name": "python3"
  },
  "language_info": {
   "codemirror_mode": {
    "name": "ipython",
    "version": 3
   },
   "file_extension": ".py",
   "mimetype": "text/x-python",
   "name": "python",
   "nbconvert_exporter": "python",
   "pygments_lexer": "ipython3",
   "version": "3.7.7"
  }
 },
 "nbformat": 4,
 "nbformat_minor": 4
}
