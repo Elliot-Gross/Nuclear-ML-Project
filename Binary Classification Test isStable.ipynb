{
 "cells": [
  {
   "cell_type": "markdown",
   "metadata": {},
   "source": [
    "# Imports"
   ]
  },
  {
   "cell_type": "code",
   "execution_count": 248,
   "metadata": {},
   "outputs": [],
   "source": [
    "### Imports ###\n",
    "import pandas as pd\n",
    "import numpy as np\n",
    "import matplotlib.pyplot as plt\n",
    "import seaborn as sns\n",
    "\n",
    "from sklearn.base import BaseEstimator, TransformerMixin\n",
    "\n",
    "from Data_Merger_Pipeline import DataMerger\n",
    "from Data_Transformer_Pipeline import Data_Transformer\n",
    "\n",
    "from sklearn.metrics import confusion_matrix\n",
    "\n",
    "from sklearn.model_selection import train_test_split, cross_val_score\n",
    "\n",
    "from sklearn.ensemble import RandomForestClassifier"
   ]
  },
  {
   "cell_type": "markdown",
   "metadata": {},
   "source": [
    "# Helper Functions"
   ]
  },
  {
   "cell_type": "code",
   "execution_count": 249,
   "metadata": {},
   "outputs": [],
   "source": [
    "#Helper Functions\n",
    "def visualize_confusion_matrix(model, y_test, y_pred):\n",
    "    mat = confusion_matrix(y_test, y_pred, normalize='true')\n",
    "    sns.heatmap(mat, square=True, annot=True, cbar=True)\n",
    "    #plt.title(model.__class__.__name__)\n",
    "    plt.xlabel('predicted value')\n",
    "    plt.ylabel('true value')\n",
    "    \n",
    "def display_scores(clf, X_test, y_test): \n",
    "    acc_score = np.mean(cross_val_score(clf, X_test, y_test, scoring='accuracy', cv=5))\n",
    "    prec_score = np.mean(cross_val_score(clf, X_test, y_test, scoring='precision', cv=5))\n",
    "    rec_score = np.mean(cross_val_score(clf, X_test, y_test, scoring='recall', cv=5))\n",
    "    f_score = np.mean(cross_val_score(clf, X_test, y_test, scoring='f1', cv=5))\n",
    "    \n",
    "    name = clf.__class__.__name__\n",
    "    print('\\n'+name+':')\n",
    "    print('   Precision Score:', prec_score)\n",
    "    print('   Recall Score:', rec_score)\n",
    "    print('   F1 Score:', f_score)\n",
    "    print('   Accuracy Score:', acc_score,'\\n')"
   ]
  },
  {
   "cell_type": "markdown",
   "metadata": {},
   "source": [
    "# Loading Data"
   ]
  },
  {
   "cell_type": "code",
   "execution_count": 250,
   "metadata": {
    "scrolled": false
   },
   "outputs": [],
   "source": [
    "### Loading Data ###\n",
    "web_data_df = pd.read_csv(\"Data/Loaded_Data/Web_Data.csv\")\n",
    "keV_index = web_data_df['mass'][web_data_df['mass'].str.contains('keV') == True].index\n",
    "web_data_df = web_data_df.drop(keV_index)\n",
    "web_data_df.reset_index(drop=True)\n",
    "\n",
    "github_data_df = pd.read_csv(\"Data/Loaded_Data/Github_Data.csv\")"
   ]
  },
  {
   "cell_type": "markdown",
   "metadata": {},
   "source": [
    "# Cleaning Data"
   ]
  },
  {
   "cell_type": "code",
   "execution_count": 251,
   "metadata": {},
   "outputs": [
    {
     "name": "stderr",
     "output_type": "stream",
     "text": [
      "/Users/elliotgross/Desktop/Nuclear-Physics-ML-master/Nuclear ML/Data_Merger_Pipeline.py:69: SettingWithCopyWarning: \n",
      "A value is trying to be set on a copy of a slice from a DataFrame.\n",
      "Try using .loc[row_indexer,col_indexer] = value instead\n",
      "\n",
      "See the caveats in the documentation: https://pandas.pydata.org/pandas-docs/stable/user_guide/indexing.html#returning-a-view-versus-a-copy\n",
      "  web_data_df['N'] = np.floor(web_data_df['Mass']) - web_data_df['Z']\n"
     ]
    }
   ],
   "source": [
    "### Merging Data ###\n",
    "cols_to_keep = ['Z','N','Mass','Half Life','M']\n",
    "data_merger = DataMerger(cols_to_keep)\n",
    "df = data_merger.transform(web_data_df, github_data_df)[1:].reset_index(drop=True)"
   ]
  },
  {
   "cell_type": "code",
   "execution_count": 252,
   "metadata": {},
   "outputs": [],
   "source": [
    "### Splitting Data And Target Vector ###\n",
    "X = df.drop(['Half Life','M'], axis=1)\n",
    "y = df['Half Life']"
   ]
  },
  {
   "cell_type": "code",
   "execution_count": 253,
   "metadata": {},
   "outputs": [
    {
     "name": "stderr",
     "output_type": "stream",
     "text": [
      "/Users/elliotgross/opt/anaconda3/lib/python3.7/site-packages/pandas/core/computation/expressions.py:68: FutureWarning: elementwise comparison failed; returning scalar instead, but in the future will perform elementwise comparison\n",
      "  return op(a, b)\n"
     ]
    },
    {
     "name": "stdout",
     "output_type": "stream",
     "text": [
      "(2728, 13) (2728,)\n"
     ]
    }
   ],
   "source": [
    "### Prepare Data ###\n",
    "X_features = ['Z','N','Adj. N/P']\n",
    "\n",
    "data_transformer = Data_Transformer(X_features='all',\n",
    "                                    target_vector='Seconds', prediction_type='Binary',\n",
    "                                    magnitude_threshold=2, seconds_threshold=3600,\n",
    "                                    X_imputer_strat='drop', X_fill_value='None',\n",
    "                                    y_imputer_strat='drop', y_fill_value='None')\n",
    "\n",
    "prepared_X, prepared_y = data_transformer.transform(X, y)\n",
    "\n",
    "print(prepared_X.shape, prepared_y.shape)"
   ]
  },
  {
   "cell_type": "markdown",
   "metadata": {},
   "source": [
    "# Normalizing Data"
   ]
  },
  {
   "cell_type": "code",
   "execution_count": 254,
   "metadata": {},
   "outputs": [],
   "source": [
    "### Normalizing X-Values ### *Put into Data Transformer Pipeline after deciding on design*\n",
    "from sklearn.preprocessing import MinMaxScaler\n",
    "\n",
    "norm = MinMaxScaler().fit(prepared_X)\n",
    "X_norm = pd.DataFrame(norm.transform(prepared_X), columns=prepared_X.columns)\n",
    "\n",
    "X_train, X_test, y_train, y_test = train_test_split(X_norm,prepared_y,test_size=0.2,random_state=42) "
   ]
  },
  {
   "cell_type": "markdown",
   "metadata": {},
   "source": [
    "# Splitting Data"
   ]
  },
  {
   "cell_type": "code",
   "execution_count": 255,
   "metadata": {},
   "outputs": [],
   "source": [
    "### Splitting Data ### *Clould Be done before or after transforming data*\n",
    "from sklearn.model_selection import train_test_split\n",
    "\n",
    "X_train, X_test, y_train, y_test = train_test_split(X_norm,prepared_y,test_size=0.2,random_state=42)  \n",
    "#X_train, X_val, y_train, y_val = train_test_split(X_train,y_train,test_size=0.001,\n",
    "                                                  #random_state=27)\n",
    "    \n"
   ]
  },
  {
   "cell_type": "markdown",
   "metadata": {},
   "source": [
    "# Creating/Traning Model"
   ]
  },
  {
   "cell_type": "code",
   "execution_count": 256,
   "metadata": {},
   "outputs": [
    {
     "name": "stdout",
     "output_type": "stream",
     "text": [
      "0.8490181049292984\n"
     ]
    },
    {
     "data": {
      "text/plain": [
       "{'colsample_bytree': 0.5,\n",
       " 'learning_rate': 0.01,\n",
       " 'max_depth': 8,\n",
       " 'min_child_weight': 3,\n",
       " 'missing': -999,\n",
       " 'n_estimators': 1000,\n",
       " 'nthread': 1,\n",
       " 'objective': 'binary:logistic',\n",
       " 'seed': 1337,\n",
       " 'silent': 1,\n",
       " 'subsample': 0.8}"
      ]
     },
     "execution_count": 256,
     "metadata": {},
     "output_type": "execute_result"
    }
   ],
   "source": [
    "from xgboost import XGBClassifier\n",
    "from sklearn.model_selection import GridSearchCV, StratifiedKFold\n",
    "\n",
    "xgb_model = XGBClassifier(verbosity=0)\n",
    "\n",
    "\n",
    "'''parameters = {'nthread':[1,2,3,4,10],\n",
    "              'objective':['binary:logistic'],\n",
    "              'learning_rate': [0.01],\n",
    "              'max_depth': [1,2,3,5,8,10],\n",
    "              'min_child_weight': [1,2,3,10,12],\n",
    "              'silent': [1],\n",
    "              'subsample': [0.1,0.2,0.5,0.8],\n",
    "              'colsample_bytree': [0.01, 0.1, 0.2, 0.5],\n",
    "              'n_estimators': [1000],\n",
    "              'missing':[-999],\n",
    "              'seed': [1337]}''' # For Tuning\n",
    "\n",
    "parameters = {'nthread':[1],\n",
    "              'objective':['binary:logistic'],\n",
    "              'learning_rate': [0.01],\n",
    "              'max_depth': [8],\n",
    "              'min_child_weight': [3],\n",
    "              'silent': [1],\n",
    "              'subsample': [0.8],\n",
    "              'colsample_bytree': [0.5],\n",
    "              'n_estimators': [1000],\n",
    "              'missing':[-999],\n",
    "              'seed': [1337]}\n",
    "\n",
    "\n",
    "xgb_model = GridSearchCV(estimator=xgb_model, param_grid=parameters, n_jobs=1, \n",
    "                   cv=StratifiedKFold(n_splits=5, shuffle=True), \n",
    "                   scoring='f1',\n",
    "                   refit=True)\n",
    "\n",
    "xgb_model.fit(X_train, y_train)\n",
    "predictions = xgb_model.predict(X_train).reshape(-1,1)\n",
    "\n",
    "print(xgb_model.best_score_)\n",
    "xgb_model.best_params_"
   ]
  },
  {
   "cell_type": "code",
   "execution_count": 257,
   "metadata": {},
   "outputs": [
    {
     "name": "stdout",
     "output_type": "stream",
     "text": [
      "0.8356228701579015\n"
     ]
    },
    {
     "data": {
      "text/plain": [
       "{'criterion': 'entropy',\n",
       " 'max_depth': 8,\n",
       " 'max_features': 'auto',\n",
       " 'n_estimators': 100,\n",
       " 'random_state': 1}"
      ]
     },
     "execution_count": 257,
     "metadata": {},
     "output_type": "execute_result"
    }
   ],
   "source": [
    "rfc = RandomForestClassifier(random_state=42)\n",
    "\n",
    "param_grid = { \n",
    "    'random_state': [1],\n",
    "    'n_estimators': [100],\n",
    "    'max_features': ['auto'],\n",
    "    'max_depth' : [8],\n",
    "    'criterion' :['entropy']\n",
    "}\n",
    "\n",
    "rfc_model = GridSearchCV(estimator=rfc, param_grid=param_grid, scoring='f1', cv=5)\n",
    "rfc_model.fit(X_train, y_train)\n",
    "\n",
    "predictions = rfc_model.predict(X_test).reshape(-1,1)\n",
    "\n",
    "print(rfc_model.best_score_)\n",
    "rfc_model.best_params_"
   ]
  },
  {
   "cell_type": "code",
   "execution_count": 258,
   "metadata": {
    "collapsed": true
   },
   "outputs": [
    {
     "name": "stdout",
     "output_type": "stream",
     "text": [
      "Loop 0 Started\n",
      "Loop 0 Ended\n",
      "Loop 1 Started\n",
      "Loop 1 Ended\n",
      "Loop 2 Started\n",
      "Loop 2 Ended\n",
      "Loop 3 Started\n",
      "Loop 3 Ended\n",
      "Loop 4 Started\n",
      "Loop 4 Ended\n",
      "Loop 5 Started\n",
      "Loop 5 Ended\n",
      "Loop 6 Started\n",
      "Loop 6 Ended\n",
      "Loop 7 Started\n",
      "Loop 7 Ended\n",
      "Loop 8 Started\n",
      "Loop 8 Ended\n",
      "Loop 9 Started\n",
      "Loop 9 Ended\n",
      "Loop 10 Started\n",
      "Loop 10 Ended\n",
      "Loop 11 Started\n",
      "Loop 11 Ended\n",
      "Loop 12 Started\n",
      "Loop 12 Ended\n",
      "Loop 13 Started\n",
      "Loop 13 Ended\n",
      "Loop 14 Started\n",
      "Loop 14 Ended\n",
      "Loop 15 Started\n",
      "Loop 15 Ended\n",
      "Loop 16 Started\n",
      "Loop 16 Ended\n",
      "Loop 17 Started\n",
      "Loop 17 Ended\n",
      "Loop 18 Started\n",
      "Loop 18 Ended\n",
      "Loop 19 Started\n",
      "Loop 19 Ended\n"
     ]
    }
   ],
   "source": [
    "rfc_scores = {'accuracy':[],'precision':[],'recall':[],'f1':[],'explained_variance':[]}\n",
    "xgb_scores = {'accuracy':[],'precision':[],'recall':[],'f1':[],'explained_variance':[]}\n",
    "\n",
    "for i in range(20):\n",
    "    print('Loop',str(i),'Started')\n",
    "    X_train, X_test, y_train, y_test = train_test_split(X_norm,prepared_y,test_size=0.2,random_state=i*2)\n",
    "    for key in rfc_scores.keys():\n",
    "        rfc_scores[key].append(cross_val_score(rfc_model, X_train, y_train, cv=5, scoring=key).mean())\n",
    "        xgb_scores[key].append(cross_val_score(xgb_model, X_train, y_train, cv=5, scoring=key).mean())\n",
    "    print('Loop',str(i),'Ended')"
   ]
  },
  {
   "cell_type": "code",
   "execution_count": 259,
   "metadata": {
    "scrolled": true
   },
   "outputs": [
    {
     "name": "stdout",
     "output_type": "stream",
     "text": [
      "Scoring Method: accuracy\n",
      "Average accuracy Score of 20 loops difference: -0.0092798060168372 \n",
      "\n",
      "Scoring Method: precision\n",
      "Average precision Score of 20 loops difference: -0.02338383523163101 \n",
      "\n",
      "Scoring Method: recall\n",
      "Average recall Score of 20 loops difference: -0.0006837029328580213 \n",
      "\n",
      "Scoring Method: f1\n",
      "Average f1 Score of 20 loops difference: -0.012267393356009904 \n",
      "\n",
      "Scoring Method: explained_variance\n",
      "Average explained_variance Score of 20 loops difference: -0.04209906269559327 \n",
      "\n"
     ]
    }
   ],
   "source": [
    "rfc_df = pd.DataFrame(rfc_scores)\n",
    "rfc_df['Model'] = ['RFC' for i in range(rfc_df.shape[0])]\n",
    "rfc_df = rfc_df.set_index(['Model', np.arange(0,rfc_df.shape[0])])\n",
    "\n",
    "xgb_df = pd.DataFrame(xgb_scores)\n",
    "xgb_df['Model'] = ['XGB' for i in range(xgb_df.shape[0])]\n",
    "xgb_df = xgb_df.set_index(['Model', np.arange(0,xgb_df.shape[0])])\n",
    "\n",
    "scores_df = pd.concat([xgb_df, rfc_df])\n",
    "\n",
    "for scoring in scores_df.columns:\n",
    "    result = scores_df.loc['RFC'][scoring].mean() - scores_df.loc['XGB'][scoring].mean()\n",
    "    print('Scoring Method:', scoring)\n",
    "    print('Average',scoring,'Score of 20 loops difference:',result,'\\n')\n",
    "    "
   ]
  },
  {
   "cell_type": "code",
   "execution_count": 260,
   "metadata": {},
   "outputs": [],
   "source": [
    "#Train Model\n",
    "xgb_model.fit(X_train, y_train)\n",
    "\n",
    "#Make Predictions\n",
    "xgb_predictions = xgb_model.predict(X_test).reshape(-1,1)"
   ]
  },
  {
   "cell_type": "markdown",
   "metadata": {},
   "source": [
    "# Scoring"
   ]
  },
  {
   "cell_type": "code",
   "execution_count": 261,
   "metadata": {
    "scrolled": true
   },
   "outputs": [
    {
     "name": "stdout",
     "output_type": "stream",
     "text": [
      "\n",
      "Unstable: 361 Stable: 185\n",
      "\n",
      "Predicted Unstable: 352 Predicted Stable: 194\n",
      "\n",
      "GridSearchCV:\n",
      "   Precision Score: 0.8233338625598687\n",
      "   Recall Score: 0.7675675675675675\n",
      "   F1 Score: 0.7899635482811826\n",
      "   Accuracy Score: 0.8662718932443703 \n",
      "\n"
     ]
    },
    {
     "data": {
      "image/png": "[encoded data removed]",
      "text/plain": [
       "<Figure size 432x288 with 2 Axes>"
      ]
     },
     "metadata": {
      "needs_background": "light"
     },
     "output_type": "display_data"
    }
   ],
   "source": [
    "print('\\nUnstable:', str(len(y_test[y_test == 0])),\n",
    "      'Stable:',str(len(y_test[y_test == 1])))\n",
    "print('\\nPredicted Unstable:', str(len(xgb_predictions[xgb_predictions == 0])),\n",
    "      'Predicted Stable:',str(len(xgb_predictions[xgb_predictions == 1])))\n",
    "\n",
    "visualize_confusion_matrix(xgb_model, y_test, xgb_predictions)\n",
    "display_scores(xgb_model, X_test, y_test)\n",
    "\n",
    "#print(np.array(y_test))\n",
    "#print(predictions)"
   ]
  },
  {
   "cell_type": "code",
   "execution_count": null,
   "metadata": {},
   "outputs": [],
   "source": []
  },
  {
   "cell_type": "code",
   "execution_count": 350,
   "metadata": {},
   "outputs": [],
   "source": [
    "\n",
    "def quick_model_prediction(model, target, m_threshold=2, s_threshold=10):\n",
    "    data_transformer = Data_Transformer(X_features='all',\n",
    "                                        target_vector='Seconds', prediction_type='Binary',\n",
    "                                        magnitude_threshold=2, seconds_threshold=3600,\n",
    "                                        X_imputer_strat='drop', X_fill_value='None',\n",
    "                                        y_imputer_strat='drop', y_fill_value='None')\n",
    "\n",
    "    prepared_X, prepared_y = data_transformer.transform(X, y)\n",
    "\n",
    "    norm = MinMaxScaler().fit(prepared_X)\n",
    "    X_norm = pd.DataFrame(norm.transform(prepared_X), columns=prepared_X.columns)\n",
    "\n",
    "    model.fit(X_train, y_train)\n",
    "    \n",
    "    return model"
   ]
  },
  {
   "cell_type": "code",
   "execution_count": 351,
   "metadata": {},
   "outputs": [
    {
     "name": "stderr",
     "output_type": "stream",
     "text": [
      "/Users/elliotgross/opt/anaconda3/lib/python3.7/site-packages/pandas/core/computation/expressions.py:68: FutureWarning: elementwise comparison failed; returning scalar instead, but in the future will perform elementwise comparison\n",
      "  return op(a, b)\n"
     ]
    },
    {
     "data": {
      "text/plain": [
       "GridSearchCV(cv=StratifiedKFold(n_splits=5, random_state=None, shuffle=True),\n",
       "             estimator=XGBClassifier(base_score=None, booster=None,\n",
       "                                     colsample_bylevel=None,\n",
       "                                     colsample_bynode=None,\n",
       "                                     colsample_bytree=None, gamma=None,\n",
       "                                     gpu_id=None, importance_type='gain',\n",
       "                                     interaction_constraints=None,\n",
       "                                     learning_rate=None, max_delta_step=None,\n",
       "                                     max_depth=None, min_child_weight=None,\n",
       "                                     miss...\n",
       "                                     reg_alpha=None, reg_lambda=None,\n",
       "                                     scale_pos_weight=None, subsample=None,\n",
       "                                     tree_method=None, validate_parameters=None,\n",
       "                                     verbosity=0),\n",
       "             n_jobs=1,\n",
       "             param_grid={'colsample_bytree': [0.5], 'learning_rate': [0.01],\n",
       "                         'max_depth': [8], 'min_child_weight': [3],\n",
       "                         'missing': [-999], 'n_estimators': [1000],\n",
       "                         'nthread': [1], 'objective': ['binary:logistic'],\n",
       "                         'seed': [1337], 'silent': [1], 'subsample': [0.8]},\n",
       "             scoring='f1')"
      ]
     },
     "execution_count": 351,
     "metadata": {},
     "output_type": "execute_result"
    }
   ],
   "source": [
    "#year_prediction = quick_model_prediction(xgb_model, 'Seconds', s_threshold=)"
   ]
  },
  {
   "cell_type": "code",
   "execution_count": 354,
   "metadata": {},
   "outputs": [
    {
     "data": {
      "text/plain": [
       "(6500,)"
      ]
     },
     "execution_count": 354,
     "metadata": {},
     "output_type": "execute_result"
    }
   ],
   "source": [
    "from decimal import Decimal\n",
    "z, n = [],[]\n",
    "for i in range(80,130):\n",
    "    for j in range(120,250):\n",
    "        z.append(i)\n",
    "        n.append(j)\n",
    "        \n",
    "test_df = pd.DataFrame({'Z':z, 'N':n})\n",
    "test_df['Mass'] = test_df['N'] + test_df['Z']\n",
    "test_df['Mass'] = [Decimal(test_df.loc[i,'Z']*0.00054386734)+test_df.loc[i,'Mass'] for i in range(test_df.shape[0])]\n",
    "\n",
    "#fix mass\n",
    "\n",
    "prepared_X_test = data_transformer.transform(test_df)\n",
    "\n",
    "norm = MinMaxScaler().fit(prepared_X_test)\n",
    "X_norm_test = pd.DataFrame(norm.transform(prepared_X_test), columns=prepared_X_test.columns)\n",
    "\n",
    "test_predictions = xgb_model.predict(X_norm_test)\n",
    "test_predictions.shape"
   ]
  },
  {
   "cell_type": "code",
   "execution_count": 355,
   "metadata": {
    "scrolled": true
   },
   "outputs": [
    {
     "data": {
      "text/plain": [
       "Text(0, 0.5, 'Z')"
      ]
     },
     "execution_count": 355,
     "metadata": {},
     "output_type": "execute_result"
    },
    {
     "data": {
      "image/png": "[encoded data removed]",
      "text/plain": [
       "<Figure size 432x288 with 1 Axes>"
      ]
     },
     "metadata": {
      "needs_background": "light"
     },
     "output_type": "display_data"
    }
   ],
   "source": [
    "stable = prepared_X_test[test_predictions==1]\n",
    "unstable = prepared_X_test[test_predictions==0]\n",
    "\n",
    "\n",
    "plt.scatter(stable['N'], stable['Z'], color='blue', alpha=.6, s=11)\n",
    "#plt.scatter(unstable['N'], unstable['Z'], color='red', alpha=.5, s=10)\n",
    "\n",
    "\n",
    "plt.xlim(test_df['N'].min(), test_df['N'].max())\n",
    "plt.ylim(test_df['Z'].min(), test_df['Z'].max())\n",
    "\n",
    "plt.xlabel('N')\n",
    "plt.ylabel('Z')"
   ]
  },
  {
   "cell_type": "code",
   "execution_count": 342,
   "metadata": {},
   "outputs": [
    {
     "data": {
      "text/plain": [
       "(20592,)"
      ]
     },
     "execution_count": 342,
     "metadata": {},
     "output_type": "execute_result"
    }
   ],
   "source": [
    "from decimal import Decimal\n",
    "z, n = [],[]\n",
    "for i in range(1,int(prepared_X['Z'].max())):\n",
    "    for j in range(1,int(prepared_X['N'].max())):\n",
    "        z.append(i)\n",
    "        n.append(j)\n",
    "        \n",
    "test_df = pd.DataFrame({'Z':z, 'N':n})\n",
    "test_df['Mass'] = test_df['N'] + test_df['Z']\n",
    "test_df['Mass'] = [Decimal(test_df.loc[i,'Z']*0.00054386734)+test_df.loc[i,'Mass'] for i in range(test_df.shape[0])]\n",
    "\n",
    "#fix mass\n",
    "\n",
    "prepared_X_test = data_transformer.transform(test_df)\n",
    "\n",
    "norm = MinMaxScaler().fit(prepared_X_test)\n",
    "X_norm_test = pd.DataFrame(norm.transform(prepared_X_test), columns=prepared_X_test.columns)\n",
    "\n",
    "test_predictions = xgb_model.predict(X_norm_test)\n",
    "test_predictions.shape"
   ]
  },
  {
   "cell_type": "code",
   "execution_count": 347,
   "metadata": {},
   "outputs": [
    {
     "data": {
      "text/plain": [
       "<matplotlib.legend.Legend at 0x1a33d5af50>"
      ]
     },
     "execution_count": 347,
     "metadata": {},
     "output_type": "execute_result"
    },
    {
     "data": {
      "image/png": "[encoded data removed]",
      "text/plain": [
       "<Figure size 432x288 with 1 Axes>"
      ]
     },
     "metadata": {
      "needs_background": "light"
     },
     "output_type": "display_data"
    }
   ],
   "source": [
    "true_stable = prepared_X[prepared_y==1]\n",
    "plt.scatter(true_stable['N'], true_stable['Z'], color='blue', alpha=.5, s=12, label='True')\n",
    "\n",
    "predicted_stable = prepared_X_test[test_predictions==1]\n",
    "plt.scatter(predicted_stable['N'], predicted_stable['Z'], color='green', alpha=.2, s=12, label='Predicted')\n",
    "\n",
    "plt.legend()"
   ]
  },
  {
   "cell_type": "code",
   "execution_count": null,
   "metadata": {},
   "outputs": [],
   "source": []
  }
 ],
 "metadata": {
  "kernelspec": {
   "display_name": "Python 3",
   "language": "python",
   "name": "python3"
  },
  "language_info": {
   "codemirror_mode": {
    "name": "ipython",
    "version": 3
   },
   "file_extension": ".py",
   "mimetype": "text/x-python",
   "name": "python",
   "nbconvert_exporter": "python",
   "pygments_lexer": "ipython3",
   "version": "3.7.7"
  }
 },
 "nbformat": 4,
 "nbformat_minor": 4
}
