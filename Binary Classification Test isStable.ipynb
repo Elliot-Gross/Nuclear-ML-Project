{
 "cells": [
  {
   "cell_type": "markdown",
   "metadata": {},
   "source": [
    "# Imports"
   ]
  },
  {
   "cell_type": "code",
   "execution_count": 1,
   "metadata": {},
   "outputs": [],
   "source": [
    "### Imports ###\n",
    "import pandas as pd\n",
    "import numpy as np\n",
    "import matplotlib.pyplot as plt\n",
    "import seaborn as sns\n",
    "\n",
    "from sklearn.base import BaseEstimator, TransformerMixin\n",
    "\n",
    "from Data_Merger_Pipeline import DataMerger\n",
    "from Data_Transformer_Pipeline import Data_Transformer\n",
    "\n",
    "from sklearn.metrics import confusion_matrix\n",
    "\n",
    "from sklearn.model_selection import train_test_split, cross_val_score\n",
    "\n",
    "from sklearn.ensemble import RandomForestClassifier"
   ]
  },
  {
   "cell_type": "markdown",
   "metadata": {},
   "source": [
    "# Helper Functions"
   ]
  },
  {
   "cell_type": "code",
   "execution_count": 2,
   "metadata": {},
   "outputs": [],
   "source": [
    "#Helper Functions\n",
    "def visualize_confusion_matrix(model, y_test, y_pred):\n",
    "    mat = confusion_matrix(y_test, y_pred, normalize='true')\n",
    "    sns.heatmap(mat, square=True, annot=True, cbar=True)\n",
    "    #plt.title(model.__class__.__name__)\n",
    "    plt.xlabel('predicted value')\n",
    "    plt.ylabel('true value')\n",
    "    \n",
    "def display_scores(clf, X_test, y_test): \n",
    "    acc_score = np.mean(cross_val_score(clf, X_test, y_test, scoring='accuracy', cv=5))\n",
    "    prec_score = np.mean(cross_val_score(clf, X_test, y_test, scoring='precision', cv=5))\n",
    "    rec_score = np.mean(cross_val_score(clf, X_test, y_test, scoring='recall', cv=5))\n",
    "    f_score = np.mean(cross_val_score(clf, X_test, y_test, scoring='f1', cv=5))\n",
    "    \n",
    "    name = clf.__class__.__name__\n",
    "    print('\\n'+name+':')\n",
    "    print('   Precision Score:', prec_score)\n",
    "    print('   Recall Score:', rec_score)\n",
    "    print('   F1 Score:', f_score)\n",
    "    print('   Accuracy Score:', acc_score,'\\n')"
   ]
  },
  {
   "cell_type": "markdown",
   "metadata": {},
   "source": [
    "# Loading Data"
   ]
  },
  {
   "cell_type": "code",
   "execution_count": 3,
   "metadata": {
    "scrolled": false
   },
   "outputs": [],
   "source": [
    "### Loading Data ###\n",
    "web_data_df = pd.read_csv(\"Data/Loaded_Data/Web_Data.csv\")\n",
    "keV_index = web_data_df['mass'][web_data_df['mass'].str.contains('keV') == True].index\n",
    "web_data_df = web_data_df.drop(keV_index)\n",
    "web_data_df.reset_index(drop=True)\n",
    "\n",
    "github_data_df = pd.read_csv(\"Data/Loaded_Data/Github_Data.csv\")"
   ]
  },
  {
   "cell_type": "markdown",
   "metadata": {},
   "source": [
    "# Cleaning Data"
   ]
  },
  {
   "cell_type": "code",
   "execution_count": 4,
   "metadata": {},
   "outputs": [
    {
     "name": "stderr",
     "output_type": "stream",
     "text": [
      "/Users/elliotgross/Desktop/Nuclear-Physics-ML-master/Nuclear ML/Data_Merger_Pipeline.py:69: SettingWithCopyWarning: \n",
      "A value is trying to be set on a copy of a slice from a DataFrame.\n",
      "Try using .loc[row_indexer,col_indexer] = value instead\n",
      "\n",
      "See the caveats in the documentation: https://pandas.pydata.org/pandas-docs/stable/user_guide/indexing.html#returning-a-view-versus-a-copy\n",
      "  web_data_df['N'] = np.floor(web_data_df['Mass']) - web_data_df['Z']\n"
     ]
    }
   ],
   "source": [
    "### Merging Data ###\n",
    "cols_to_keep = ['Z','N','Mass','Half Life','M']\n",
    "data_merger = DataMerger(cols_to_keep)\n",
    "df = data_merger.transform(web_data_df, github_data_df)[1:].reset_index(drop=True)"
   ]
  },
  {
   "cell_type": "code",
   "execution_count": 6,
   "metadata": {},
   "outputs": [],
   "source": [
    "### Splitting Data And Target Vector ###\n",
    "X = df.drop(['Half Life','M'], axis=1)\n",
    "y = df['Half Life']"
   ]
  },
  {
   "cell_type": "code",
   "execution_count": 9,
   "metadata": {},
   "outputs": [
    {
     "name": "stderr",
     "output_type": "stream",
     "text": [
      "/Users/elliotgross/opt/anaconda3/lib/python3.7/site-packages/pandas/core/computation/expressions.py:68: FutureWarning: elementwise comparison failed; returning scalar instead, but in the future will perform elementwise comparison\n",
      "  return op(a, b)\n"
     ]
    },
    {
     "name": "stdout",
     "output_type": "stream",
     "text": [
      "(2728, 14) (2728,)\n"
     ]
    }
   ],
   "source": [
    "### Prepare Data ###\n",
    "X_features = ['Z','N','Mass','N/P','Adj. N/P','P/N','Adj. P/N','N/Mass','P/Mass','Adj. N/Mass',\n",
    "              'Adj. P/Mass', 'Adj. N/Mass - Z', 'Adj. P/Mass - Z', 'Z-N']\n",
    "\n",
    "data_transformer = Data_Transformer(X_features='all',\n",
    "                                    target_vector='Seconds', prediction_type='Binary',\n",
    "                                    magnitude_threshold=2, seconds_threshold=3600,\n",
    "                                    X_imputer_strat='drop', X_fill_value='None',\n",
    "                                    y_imputer_strat='drop', y_fill_value='None')\n",
    "\n",
    "prepared_X, prepared_y = data_transformer.transform(X, y)\n",
    "\n",
    "print(prepared_X.shape, prepared_y.shape)"
   ]
  },
  {
   "cell_type": "markdown",
   "metadata": {},
   "source": [
    "# Normalizing Data"
   ]
  },
  {
   "cell_type": "code",
   "execution_count": 23,
   "metadata": {},
   "outputs": [],
   "source": [
    "### Normalizing X-Values ### *Put into Data Transformer Pipeline after deciding on design*\n",
    "from sklearn.preprocessing import MinMaxScaler\n",
    "\n",
    "norm = MinMaxScaler().fit(prepared_X)\n",
    "X_norm = pd.DataFrame(norm.transform(prepared_X), columns=prepared_X.columns)"
   ]
  },
  {
   "cell_type": "markdown",
   "metadata": {},
   "source": [
    "# Splitting Data"
   ]
  },
  {
   "cell_type": "code",
   "execution_count": 11,
   "metadata": {},
   "outputs": [],
   "source": [
    "### Splitting Data ### *Clould Be done before or after transforming data*\n",
    "from sklearn.model_selection import train_test_split\n",
    "\n",
    "X_train, X_test, y_train, y_test = train_test_split(X_norm,prepared_y,test_size=0.2,random_state=42)  \n",
    "#X_train, X_val, y_train, y_val = train_test_split(X_train,y_train,test_size=0.001,\n",
    "                                                  #random_state=27)\n",
    "    \n"
   ]
  },
  {
   "cell_type": "markdown",
   "metadata": {},
   "source": [
    "# Choosing Model"
   ]
  },
  {
   "cell_type": "code",
   "execution_count": 12,
   "metadata": {},
   "outputs": [
    {
     "name": "stdout",
     "output_type": "stream",
     "text": [
      "0.8375135314731372\n"
     ]
    },
    {
     "data": {
      "text/plain": [
       "{'colsample_bytree': 0.5,\n",
       " 'learning_rate': 0.01,\n",
       " 'max_depth': 8,\n",
       " 'min_child_weight': 3,\n",
       " 'missing': -999,\n",
       " 'n_estimators': 1000,\n",
       " 'nthread': 1,\n",
       " 'objective': 'binary:logistic',\n",
       " 'seed': 1337,\n",
       " 'silent': 1,\n",
       " 'subsample': 0.8}"
      ]
     },
     "execution_count": 12,
     "metadata": {},
     "output_type": "execute_result"
    }
   ],
   "source": [
    "from xgboost import XGBClassifier\n",
    "from sklearn.model_selection import GridSearchCV, StratifiedKFold\n",
    "\n",
    "xgb_model = XGBClassifier(verbosity=0)\n",
    "\n",
    "\n",
    "'''parameters = {'nthread':[1,2,3,4,10],\n",
    "              'objective':['binary:logistic'],\n",
    "              'learning_rate': [0.01],\n",
    "              'max_depth': [1,2,3,5,8,10],\n",
    "              'min_child_weight': [1,2,3,10,12],\n",
    "              'silent': [1],\n",
    "              'subsample': [0.1,0.2,0.5,0.8],\n",
    "              'colsample_bytree': [0.01, 0.1, 0.2, 0.5],\n",
    "              'n_estimators': [1000],\n",
    "              'missing':[-999],\n",
    "              'seed': [1337]}''' # For Tuning\n",
    "\n",
    "parameters = {'nthread':[1],\n",
    "              'objective':['binary:logistic'],\n",
    "              'learning_rate': [0.01],\n",
    "              'max_depth': [8],\n",
    "              'min_child_weight': [3],\n",
    "              'silent': [1],\n",
    "              'subsample': [0.8],\n",
    "              'colsample_bytree': [0.5],\n",
    "              'n_estimators': [1000],\n",
    "              'missing':[-999],\n",
    "              'seed': [1337]}\n",
    "\n",
    "\n",
    "xgb_model = GridSearchCV(estimator=xgb_model, param_grid=parameters, n_jobs=1, \n",
    "                   cv=StratifiedKFold(n_splits=5, shuffle=True), \n",
    "                   scoring='f1',\n",
    "                   refit=True)\n",
    "\n",
    "xgb_model.fit(X_train, y_train)\n",
    "predictions = xgb_model.predict(X_train).reshape(-1,1)\n",
    "\n",
    "print(xgb_model.best_score_)\n",
    "xgb_model.best_params_"
   ]
  },
  {
   "cell_type": "code",
   "execution_count": 13,
   "metadata": {
    "scrolled": true
   },
   "outputs": [
    {
     "name": "stdout",
     "output_type": "stream",
     "text": [
      "0.8323792176987238\n"
     ]
    },
    {
     "data": {
      "text/plain": [
       "{'criterion': 'entropy',\n",
       " 'max_depth': 8,\n",
       " 'max_features': 'auto',\n",
       " 'n_estimators': 100,\n",
       " 'random_state': 1}"
      ]
     },
     "execution_count": 13,
     "metadata": {},
     "output_type": "execute_result"
    }
   ],
   "source": [
    "rfc = RandomForestClassifier(random_state=42)\n",
    "\n",
    "param_grid = { \n",
    "    'random_state': [1],\n",
    "    'n_estimators': [100],\n",
    "    'max_features': ['auto'],\n",
    "    'max_depth' : [8],\n",
    "    'criterion' :['entropy']\n",
    "}\n",
    "\n",
    "rfc_model = GridSearchCV(estimator=rfc, param_grid=param_grid, scoring='f1', cv=5)\n",
    "rfc_model.fit(X_train, y_train)\n",
    "\n",
    "predictions = rfc_model.predict(X_test).reshape(-1,1)\n",
    "\n",
    "print(rfc_model.best_score_)\n",
    "rfc_model.best_params_"
   ]
  },
  {
   "cell_type": "markdown",
   "metadata": {},
   "source": [
    "# Comparing Models"
   ]
  },
  {
   "cell_type": "code",
   "execution_count": 258,
   "metadata": {
    "collapsed": true
   },
   "outputs": [
    {
     "name": "stdout",
     "output_type": "stream",
     "text": [
      "Loop 0 Started\n",
      "Loop 0 Ended\n",
      "Loop 1 Started\n",
      "Loop 1 Ended\n",
      "Loop 2 Started\n",
      "Loop 2 Ended\n",
      "Loop 3 Started\n",
      "Loop 3 Ended\n",
      "Loop 4 Started\n",
      "Loop 4 Ended\n",
      "Loop 5 Started\n",
      "Loop 5 Ended\n",
      "Loop 6 Started\n",
      "Loop 6 Ended\n",
      "Loop 7 Started\n",
      "Loop 7 Ended\n",
      "Loop 8 Started\n",
      "Loop 8 Ended\n",
      "Loop 9 Started\n",
      "Loop 9 Ended\n",
      "Loop 10 Started\n",
      "Loop 10 Ended\n",
      "Loop 11 Started\n",
      "Loop 11 Ended\n",
      "Loop 12 Started\n",
      "Loop 12 Ended\n",
      "Loop 13 Started\n",
      "Loop 13 Ended\n",
      "Loop 14 Started\n",
      "Loop 14 Ended\n",
      "Loop 15 Started\n",
      "Loop 15 Ended\n",
      "Loop 16 Started\n",
      "Loop 16 Ended\n",
      "Loop 17 Started\n",
      "Loop 17 Ended\n",
      "Loop 18 Started\n",
      "Loop 18 Ended\n",
      "Loop 19 Started\n",
      "Loop 19 Ended\n"
     ]
    }
   ],
   "source": [
    "rfc_scores = {'accuracy':[],'precision':[],'recall':[],'f1':[],'explained_variance':[]}\n",
    "xgb_scores = {'accuracy':[],'precision':[],'recall':[],'f1':[],'explained_variance':[]}\n",
    "\n",
    "for i in range(20):\n",
    "    print('Loop',str(i),'Started')\n",
    "    X_train, X_test, y_train, y_test = train_test_split(X_norm,prepared_y,test_size=0.2,random_state=i*2)\n",
    "    for key in rfc_scores.keys():\n",
    "        rfc_scores[key].append(cross_val_score(rfc_model, X_train, y_train, cv=5, scoring=key).mean())\n",
    "        xgb_scores[key].append(cross_val_score(xgb_model, X_train, y_train, cv=5, scoring=key).mean())\n",
    "    print('Loop',str(i),'Ended')"
   ]
  },
  {
   "cell_type": "code",
   "execution_count": 259,
   "metadata": {
    "scrolled": false
   },
   "outputs": [
    {
     "name": "stdout",
     "output_type": "stream",
     "text": [
      "Scoring Method: accuracy\n",
      "Average accuracy Score of 20 loops difference: -0.0092798060168372 \n",
      "\n",
      "Scoring Method: precision\n",
      "Average precision Score of 20 loops difference: -0.02338383523163101 \n",
      "\n",
      "Scoring Method: recall\n",
      "Average recall Score of 20 loops difference: -0.0006837029328580213 \n",
      "\n",
      "Scoring Method: f1\n",
      "Average f1 Score of 20 loops difference: -0.012267393356009904 \n",
      "\n",
      "Scoring Method: explained_variance\n",
      "Average explained_variance Score of 20 loops difference: -0.04209906269559327 \n",
      "\n"
     ]
    }
   ],
   "source": [
    "rfc_df = pd.DataFrame(rfc_scores)\n",
    "rfc_df['Model'] = ['RFC' for i in range(rfc_df.shape[0])]\n",
    "rfc_df = rfc_df.set_index(['Model', np.arange(0,rfc_df.shape[0])])\n",
    "\n",
    "xgb_df = pd.DataFrame(xgb_scores)\n",
    "xgb_df['Model'] = ['XGB' for i in range(xgb_df.shape[0])]\n",
    "xgb_df = xgb_df.set_index(['Model', np.arange(0,xgb_df.shape[0])])\n",
    "\n",
    "scores_df = pd.concat([xgb_df, rfc_df])\n",
    "\n",
    "for scoring in scores_df.columns:\n",
    "    result = scores_df.loc['RFC'][scoring].mean() - scores_df.loc['XGB'][scoring].mean()\n",
    "    print('Scoring Method:', scoring)\n",
    "    print('Average',scoring,'Score of 20 loops difference:',result,'\\n')\n",
    "    "
   ]
  },
  {
   "cell_type": "markdown",
   "metadata": {},
   "source": [
    "# Training Model and Predicting"
   ]
  },
  {
   "cell_type": "code",
   "execution_count": 15,
   "metadata": {},
   "outputs": [],
   "source": [
    "#Train Model\n",
    "xgb_model.fit(X_train, y_train)\n",
    "\n",
    "#Make Predictions\n",
    "xgb_predictions = xgb_model.predict(X_test).reshape(-1,1)"
   ]
  },
  {
   "cell_type": "markdown",
   "metadata": {},
   "source": [
    "# Scoring"
   ]
  },
  {
   "cell_type": "code",
   "execution_count": 16,
   "metadata": {
    "scrolled": false
   },
   "outputs": [
    {
     "name": "stdout",
     "output_type": "stream",
     "text": [
      "\n",
      "Unstable: 378 Stable: 168\n",
      "\n",
      "Predicted Unstable: 376 Predicted Stable: 170\n",
      "\n",
      "GridSearchCV:\n",
      "   Precision Score: 0.8340467328370554\n",
      "   Recall Score: 0.7434937611408199\n",
      "   F1 Score: 0.7849328449328449\n",
      "   Accuracy Score: 0.8754128440366973 \n",
      "\n"
     ]
    },
    {
     "data": {
      "image/png": "[encoded data removed]",
      "text/plain": [
       "<Figure size 432x288 with 2 Axes>"
      ]
     },
     "metadata": {
      "needs_background": "light"
     },
     "output_type": "display_data"
    }
   ],
   "source": [
    "print('\\nUnstable:', str(len(y_test[y_test == 0])),\n",
    "      'Stable:',str(len(y_test[y_test == 1])))\n",
    "print('\\nPredicted Unstable:', str(len(xgb_predictions[xgb_predictions == 0])),\n",
    "      'Predicted Stable:',str(len(xgb_predictions[xgb_predictions == 1])))\n",
    "\n",
    "visualize_confusion_matrix(xgb_model, y_test, xgb_predictions)\n",
    "display_scores(xgb_model, X_test, y_test)\n",
    "\n",
    "#print(np.array(y_test))\n",
    "#print(predictions)"
   ]
  },
  {
   "cell_type": "code",
   "execution_count": null,
   "metadata": {},
   "outputs": [],
   "source": []
  }
 ],
 "metadata": {
  "kernelspec": {
   "display_name": "Python 3",
   "language": "python",
   "name": "python3"
  },
  "language_info": {
   "codemirror_mode": {
    "name": "ipython",
    "version": 3
   },
   "file_extension": ".py",
   "mimetype": "text/x-python",
   "name": "python",
   "nbconvert_exporter": "python",
   "pygments_lexer": "ipython3",
   "version": "3.7.7"
  }
 },
 "nbformat": 4,
 "nbformat_minor": 4
}
